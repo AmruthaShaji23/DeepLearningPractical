{
 "cells": [
  {
   "cell_type": "markdown",
   "id": "cc7c7dbd",
   "metadata": {},
   "source": [
    "<h2>Create synthetic line of text</h2>"
   ]
  },
  {
   "cell_type": "code",
   "execution_count": 160,
   "id": "de4d4460",
   "metadata": {},
   "outputs": [],
   "source": [
    "#create a text line made with n_grams and spaces\n",
    "#look into average word length, and line length, and randomize length in that range\n",
    "import pandas as pd\n",
    "import random\n",
    "\n",
    "\n",
    "def read_ngrams(): #read each line, and see how many characters is in the line, and seperate (read the underscores)\n",
    "    output_grams = [[],[],[],[],[],[],[],[],[]] # found that the max gram is 10\n",
    "    #read csv\n",
    "    df = pd.read_csv('ngrams_frequencies_withNames.csv')  \n",
    "    grams = df['Names']\n",
    "    frequencies = df['Frequencies']\n",
    "    for i, gram in enumerate(grams):\n",
    "        count = gram.count('_') # counting the underscores\n",
    "        def exception():\n",
    "            print(\"Value is something else\")\n",
    "        \n",
    "        switch = { \n",
    "            1: lambda: output_grams[0].append((gram, frequencies[i])), #two characters, one underscore\n",
    "            2: lambda: output_grams[1].append((gram, frequencies[i])), #three characters, two underscores\n",
    "            3: lambda: output_grams[2].append((gram, frequencies[i])), #four charactes, three underscores\n",
    "            4: lambda: output_grams[3].append((gram, frequencies[i])), #etc\n",
    "            5: lambda: output_grams[4].append((gram, frequencies[i])), \n",
    "            6: lambda: output_grams[5].append((gram, frequencies[i])),\n",
    "            7: lambda: output_grams[6].append((gram, frequencies[i])),\n",
    "            8: lambda: output_grams[7].append((gram, frequencies[i])),\n",
    "            9: lambda: output_grams[8].append((gram, frequencies[i]))\n",
    "        }\n",
    "\n",
    "        switch.get(count, exception)()\n",
    "\n",
    "    return output_grams #its already ordered for frequency per line bc of how we read and append\n",
    "\n",
    "\n",
    "def synthetic_line(n_grams): #Making the synthetic line\n",
    "\n",
    "    #we can change these, \n",
    "    min_word_len = 2 \n",
    "    max_word_len = 6\n",
    "    min_line_len = 6\n",
    "    max_line_len = 40\n",
    "\n",
    "    line = []\n",
    "    total_chars = 0\n",
    "    target_line_len = random.randint(min_line_len, max_line_len)\n",
    "\n",
    "    while total_chars < target_line_len:\n",
    "        word = []\n",
    "        word_char_len = random.randint(min_word_len, max_word_len)\n",
    "        word_chars = 0\n",
    "\n",
    "        while word_chars < word_char_len:\n",
    "            valid_choices = []\n",
    "\n",
    "            for n, group in enumerate(n_grams, start=2):\n",
    "                if group:\n",
    "                     # filter n-grams that can still fit in the current word\n",
    "                    filtered = [(gram, freq) for gram, freq in group if n + word_chars <= word_char_len]\n",
    "                    if filtered:\n",
    "                        grams, freqs = zip(*filtered)\n",
    "                        valid_choices.append((n, grams, freqs))\n",
    "\n",
    "            if not valid_choices:\n",
    "                break  # no n-grams can fit, stop this word\n",
    "            \n",
    "             # choose an n-gram group weighted by group frequency totals\n",
    "            group_weights = [sum(freqs) for (_, grams, freqs) in valid_choices]\n",
    "            n, grams, freqs = random.choices(valid_choices, weights=group_weights, k=1)[0]\n",
    "            # choose a specific n-gram from the group, weighted by individual frequency\n",
    "            gram = random.choices(grams, weights=freqs, k=1)[0]\n",
    "            word.append(gram)\n",
    "            word_chars += n\n",
    "\n",
    "        if word:\n",
    "            reversed_word = \"_\".join(reversed(word))\n",
    "            line.append(reversed_word)\n",
    "            total_chars += word_chars + 1  # +1 for space\n",
    "\n",
    "    return \" \".join(reversed(line))  # make it right to left \n",
    "n_grams = read_ngrams()\n",
    "\n",
    "\n"
   ]
  },
  {
   "cell_type": "code",
   "execution_count": 164,
   "id": "b76ad56a",
   "metadata": {},
   "outputs": [
    {
     "name": "stdout",
     "output_type": "stream",
     "text": [
      "Waw_Mem-medial_Nun-final Waw_He Alef_Lamed He_Mem-medial_He Het_Waw_Qof_Yod Nun-medial_Waw\n"
     ]
    }
   ],
   "source": [
    "#rerun to print new lines\n",
    "print(synthetic_line(n_grams)) "
   ]
  }
 ],
 "metadata": {
  "kernelspec": {
   "display_name": "deeplearning",
   "language": "python",
   "name": "python3"
  },
  "language_info": {
   "codemirror_mode": {
    "name": "ipython",
    "version": 3
   },
   "file_extension": ".py",
   "mimetype": "text/x-python",
   "name": "python",
   "nbconvert_exporter": "python",
   "pygments_lexer": "ipython3",
   "version": "3.13.2"
  }
 },
 "nbformat": 4,
 "nbformat_minor": 5
}
