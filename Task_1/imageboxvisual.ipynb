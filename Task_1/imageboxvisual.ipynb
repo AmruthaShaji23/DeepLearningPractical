{
 "cells": [
  {
   "cell_type": "code",
   "id": "initial_id",
   "metadata": {
    "collapsed": true,
    "ExecuteTime": {
     "end_time": "2025-05-08T00:37:55.637010Z",
     "start_time": "2025-05-08T00:37:55.526572Z"
    }
   },
   "source": [
    "import matplotlib.pyplot as plt\n",
    "import matplotlib.patches as patches\n",
    "import cv2\n",
    "import numpy as np"
   ],
   "outputs": [],
   "execution_count": 3
  },
  {
   "metadata": {
    "ExecuteTime": {
     "end_time": "2025-05-08T01:03:36.651367Z",
     "start_time": "2025-05-08T01:03:36.644459Z"
    }
   },
   "cell_type": "code",
   "source": [
    "def visualize_bounding_boxes(image, bboxes):\n",
    "    h, w = image.shape[:2]\n",
    "\n",
    "    fig, ax = plt.subplots(1)\n",
    "    ax.imshow(cv2.cvtColor(image, cv2.COLOR_BGR2RGB))  # Convert BGR to RGB for matplotlib\n",
    "\n",
    "    for bbox in bboxes:\n",
    "        class_id, x_center, y_center, box_w, box_h = bbox\n",
    "\n",
    "        # Convert normalized to pixel coordinates\n",
    "        x_center *= w\n",
    "        y_center *= h\n",
    "        box_w *= w\n",
    "        box_h *= h\n",
    "\n",
    "        # Convert to top-left coordinates\n",
    "        x_min = x_center - box_w / 2\n",
    "        y_min = y_center - box_h / 2\n",
    "\n",
    "        rect = patches.Rectangle(\n",
    "            (x_min, y_min),\n",
    "            box_w,\n",
    "            box_h,\n",
    "            linewidth=1.5,\n",
    "            edgecolor='red',\n",
    "            facecolor='none'\n",
    "        )\n",
    "        ax.add_patch(rect)\n",
    "        ax.text(x_min, y_min - 5, str(class_id), color='red', fontsize=8, weight='bold')\n",
    "\n",
    "    plt.axis('off')\n",
    "    plt.tight_layout()\n",
    "    plt.show()"
   ],
   "id": "a9e9d6ca8bcd1562",
   "outputs": [],
   "execution_count": 12
  },
  {
   "metadata": {
    "ExecuteTime": {
     "end_time": "2025-05-08T01:03:38.071247Z",
     "start_time": "2025-05-08T01:03:38.067799Z"
    }
   },
   "cell_type": "code",
   "source": [
    "img_path = 'yolo_synthetic_lines/line_19.jpg'\n",
    "bbox_path = 'yolo_synthetic_lines/line_19.txt'"
   ],
   "id": "14959d6b9ec7441b",
   "outputs": [],
   "execution_count": 13
  },
  {
   "metadata": {
    "ExecuteTime": {
     "end_time": "2025-05-08T01:03:39.703190Z",
     "start_time": "2025-05-08T01:03:39.080287Z"
    }
   },
   "cell_type": "code",
   "source": [
    "image = cv2.imread(img_path)\n",
    "if image is None:\n",
    "    raise ValueError(f\"Could not read image: {img_path}\")\n",
    "bboxes = []\n",
    "with open(bbox_path, 'r') as f:\n",
    "    for line in f:\n",
    "        parts = line.strip().split()\n",
    "        if len(parts) != 5:\n",
    "            continue\n",
    "        class_id = int(parts[0])\n",
    "        x_center, y_center, width, height = map(float, parts[1:])\n",
    "        bboxes.append((class_id, x_center, y_center, width, height))\n",
    "\n",
    "# Visualize\n",
    "visualize_bounding_boxes(image, bboxes)\n"
   ],
   "id": "436b58a709afcdb8",
   "outputs": [
    {
     "data": {
      "text/plain": [
       "<Figure size 640x480 with 1 Axes>"
      ],
      "image/png": "[encoded data removed]"
     },
     "metadata": {},
     "output_type": "display_data"
    },
    {
     "data": {
      "text/plain": [
       "<Figure size 640x480 with 0 Axes>"
      ]
     },
     "metadata": {},
     "output_type": "display_data"
    }
   ],
   "execution_count": 14
  },
  {
   "metadata": {
    "ExecuteTime": {
     "end_time": "2025-05-08T00:39:58.368876Z",
     "start_time": "2025-05-08T00:39:58.366431Z"
    }
   },
   "cell_type": "code",
   "source": "",
   "id": "7ce76c71619358d8",
   "outputs": [],
   "execution_count": null
  },
  {
   "metadata": {},
   "cell_type": "code",
   "outputs": [],
   "execution_count": null,
   "source": "",
   "id": "1ee2c6f54a919561"
  }
 ],
 "metadata": {
  "kernelspec": {
   "display_name": "Python 3",
   "language": "python",
   "name": "python3"
  },
  "language_info": {
   "codemirror_mode": {
    "name": "ipython",
    "version": 2
   },
   "file_extension": ".py",
   "mimetype": "text/x-python",
   "name": "python",
   "nbconvert_exporter": "python",
   "pygments_lexer": "ipython2",
   "version": "2.7.6"
  }
 },
 "nbformat": 4,
 "nbformat_minor": 5
}
